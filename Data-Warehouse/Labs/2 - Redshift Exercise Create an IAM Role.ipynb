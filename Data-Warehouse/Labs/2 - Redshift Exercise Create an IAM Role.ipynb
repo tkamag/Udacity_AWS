{
 "cells": [
  {
   "cell_type": "markdown",
   "id": "cf574668-a43c-4849-aaf8-0da1bea19d60",
   "metadata": {},
   "source": [
    "# Redshift Exercise: Create an IAM Role"
   ]
  },
  {
   "cell_type": "markdown",
   "id": "32fe7ac0-4cb0-4921-aff1-ab687d84aad8",
   "metadata": {},
   "source": [
    "In this exercise, you'll be building a Redshift data warehouse on the AWS cloud platform. You'll be creating the following resources on AWS to support the Redshift data warehouse.\n",
    "\n",
    "## Exercise: Create an IAM Role\n",
    "All AWS services require identity and access management (IAM) policies, roles, and their associated permissions. In this exercise, you'll create an IAM user role that has permission to use the Redshift service on AWS.\n",
    "\n",
    "You will later attach this role to your Redshift cluster to enable your cluster to load data from Amazon S3 buckets. You can read more about IAM roles and Redshift [here](https://docs.aws.amazon.com/redshift/latest/gsg/rs-gsg-create-an-iam-role.html).\n",
    "\n",
    "1. Once you have signed into the AWS management console, navigate to the [IAM service dashboard](https://console.aws.amazon.com/iam/).\n",
    "2. In the left navigation pane, choose **Roles**.\n",
    "3. Choose **Create role**.\n",
    "\n",
    "<figure>\n",
    "<img src=\"./fig/02.png\" alt=\"..\" width=\"65%\" height=\"70%\"/>\n",
    "</figure>\n",
    "\n",
    "4. In the **AWS Service** group as the trusted entity, and choose **Redshift** service.\n",
    "5. Under **Select your use case**, choose **Redshift - Customizable**, and then **Next: Permissions**.\n",
    "\n",
    "<figure>\n",
    "<img src=\"./fig/03.png\" alt=\"..\" width=\"65%\" height=\"70%\"/>\n",
    "</figure>\n",
    "\n",
    "<figure>\n",
    "<img src=\"./fig/04.png\" alt=\"..\" width=\"65%\" height=\"70%\"/>\n",
    "</figure>\n",
    "\n",
    "6. On the **Attach permissions policies** page, search for and select the **AmazonS3ReadOnlyAccess** policy, and then click on the **Next: Tags** button.\n",
    "7. Tags are optional. Click on the **Next: Review** button.\n",
    "\n",
    "<figure>\n",
    "<img src=\"./fig/05.png\" alt=\"..\" width=\"65%\" height=\"70%\"/>\n",
    "</figure>\n",
    "\n",
    "8. For **Role name**, enter ``myRedshiftRole``, and then choose **Create Role**.\n",
    "\n",
    "<figure>\n",
    "<img src=\"./fig/06.png\" alt=\"..\" width=\"65%\" height=\"70%\"/>\n",
    "</figure>\n",
    "\n",
    "9. You will see a success message when the new role will be created.\n",
    "\n",
    "<figure>\n",
    "<img src=\"./fig/07.png\" alt=\"..\" width=\"65%\" height=\"70%\"/>\n",
    "</figure>\n",
    "\n",
    "Great! On the next page, you'll learn to **attach this role to a new/existing cluster**."
   ]
  },
  {
   "cell_type": "code",
   "execution_count": null,
   "id": "d3215ba2-f292-4360-819e-f9e08668dbf0",
   "metadata": {},
   "outputs": [],
   "source": []
  }
 ],
 "metadata": {
  "kernelspec": {
   "display_name": "Python 3 (ipykernel)",
   "language": "python",
   "name": "python3"
  },
  "language_info": {
   "codemirror_mode": {
    "name": "ipython",
    "version": 3
   },
   "file_extension": ".py",
   "mimetype": "text/x-python",
   "name": "python",
   "nbconvert_exporter": "python",
   "pygments_lexer": "ipython3",
   "version": "3.9.15"
  }
 },
 "nbformat": 4,
 "nbformat_minor": 5
}

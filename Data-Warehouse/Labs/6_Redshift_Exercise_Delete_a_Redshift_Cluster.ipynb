{
 "cells": [
  {
   "cell_type": "markdown",
   "id": "af27ac8d-eb05-4c1b-b6fc-f2ab9fad23d1",
   "metadata": {},
   "source": [
    "# Redshift Exercise: Delete a Redshift Cluster\n",
    "\n",
    "**Delete a Redshift Cluster**\n",
    "\n",
    "Make sure to delete your cluster each time you're finished working to avoid large, unexpected costs. You can always launch a new cluster, so don't leave it running overnight or throughout the week if you don't need to.\n",
    "\n",
    "Steps to delete a cluster are:\n",
    "\n",
    "1. On the **Clusters** page of your Amazon Redshift console, click on the check-box next to your cluster name. Then click on the **Actions** drop-down button on top → select **Delete**.\n",
    "\n",
    "<figure>\n",
    "<img src=\"./fig/37.png\" alt=\"..\" width=\"65%\" height=\"70%\"/>\n",
    "</figure>\n",
    "\n",
    "2. You can choose to not **Create final snapshot**, and click on the Delete cluster button.\n",
    "\n",
    "<figure>\n",
    "<img src=\"./fig/38.png\" alt=\"..\" width=\"65%\" height=\"70%\"/>\n",
    "</figure>\n",
    "\n",
    "3. Your cluster will change it's status to **deleting**, and then disappear from your Cluster list once it's finished deleting. You'll no longer be charged for this cluster."
   ]
  },
  {
   "cell_type": "code",
   "execution_count": null,
   "id": "733c5ad3-4a9f-44a6-a5d5-b6ed4561f157",
   "metadata": {},
   "outputs": [],
   "source": []
  }
 ],
 "metadata": {
  "kernelspec": {
   "display_name": "Python 3 (ipykernel)",
   "language": "python",
   "name": "python3"
  },
  "language_info": {
   "codemirror_mode": {
    "name": "ipython",
    "version": 3
   },
   "file_extension": ".py",
   "mimetype": "text/x-python",
   "name": "python",
   "nbconvert_exporter": "python",
   "pygments_lexer": "ipython3",
   "version": "3.9.15"
  }
 },
 "nbformat": 4,
 "nbformat_minor": 5
}

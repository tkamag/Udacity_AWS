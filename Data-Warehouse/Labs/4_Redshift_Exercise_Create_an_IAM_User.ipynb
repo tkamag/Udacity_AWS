{
 "cells": [
  {
   "cell_type": "markdown",
   "id": "a27bcfff-e622-41c7-bd26-dc20926e80cf",
   "metadata": {},
   "source": [
    "# Redshift Exercise: Create an IAM User"
   ]
  },
  {
   "cell_type": "markdown",
   "id": "5863408d-158f-49d6-a001-63d3e8474798",
   "metadata": {},
   "source": [
    "**Create an IAM User for Redshift**\n",
    "\n",
    "In this exercise, you'll create an IAM user that you will use to access your Redshift cluster.\n",
    "\n",
    "1. Navigate to the [IAM Dashboard](https://console.aws.amazon.com/iam/home#/home), and create an IAM user.\n",
    "\n",
    "<figure>\n",
    "<img src=\"./fig/16.png\" alt=\"..\" width=\"65%\" height=\"70%\"/>\n",
    "</figure>\n",
    "\n",
    "2. Set the user name, and click **Next. DO NOT** check **Provide user access to the AWS Management Console - optional.**\n",
    "<figure>\n",
    "<img src=\"./fig/17.jpeg\" alt=\"..\" width=\"65%\" height=\"70%\"/>\n",
    "</figure>\n",
    "\n",
    "3. Set permissions\n",
    "\n",
    "Choose **Attach existing policies directly** option.\n",
    "* Search for redshift and select **AmazonRedshiftFullAccess**.\n",
    "* Then, search for S3 and select **AmazonS3ReadOnlyAccess**.\n",
    "\n",
    "After selecting both policies, choose **Next: Tags**. Skip this page and choose **Next: Review**.\n",
    "\n",
    "<figure>\n",
    "<img src=\"./fig/18.png\" alt=\"..\" width=\"65%\" height=\"70%\"/>\n",
    "</figure>\n",
    "\n",
    "<figure>\n",
    "<img src=\"./fig/19.png\" alt=\"..\" width=\"65%\" height=\"70%\"/>\n",
    "</figure>\n",
    "\n",
    "4. Provide tags [optional], review the details of the new user, and finally create the new user.\n",
    "5. After a user is created successfully, click on the User name.\n",
    "\n",
    "<figure>\n",
    "<img src=\"./fig/20.jpeg\" alt=\"..\" width=\"65%\" height=\"70%\"/>\n",
    "</figure>\n",
    "\n",
    "6. Ignore **AWS Management Console** related warnings. Since you only need programmatic acces, this can be ignored. Go to **Security Credentials** and select **Create access key**.\n",
    "\n",
    "<figure>\n",
    "<img src=\"./fig/21.jpeg\" alt=\"..\" width=\"65%\" height=\"70%\"/>\n",
    "</figure>\n",
    "\n",
    "<figure>\n",
    "<img src=\"./fig/22.jpeg\" alt=\"..\" width=\"65%\" height=\"70%\"/>\n",
    "</figure>\n",
    "\n",
    "7. Select **Command Line Interface (CLI)** and click **Next**.\n",
    "\n",
    "<figure>\n",
    "<img src=\"./fig/23.jpeg\" alt=\"..\" width=\"65%\" height=\"70%\"/>\n",
    "</figure>\n",
    "\n",
    "8. Set description tag and click **Create access key**.\n",
    "\n",
    "<figure>\n",
    "<img src=\"./fig/24.jpeg\" alt=\"..\" width=\"65%\" height=\"70%\"/>\n",
    "</figure>\n",
    "\n",
    "9. Copy the created **Access key, Secret access key** and store it for later use. You can also download these as a .csv file.\n",
    "\n",
    "<figure>\n",
    "<img src=\"./fig/25.jpeg\" alt=\"..\" width=\"65%\" height=\"70%\"/>\n",
    "</figure>\n",
    "\n",
    "> **Note** that you can generate a temporary Access key in the classroom as well, as shown in the snapshot below. But, the classroom generated access key is **valid for a for a few hours only**. Notice that it has a session token associated with it.\n",
    "\n",
    "<figure>\n",
    "<img src=\"./fig/26.jpeg\" alt=\"..\" width=\"65%\" height=\"70%\"/>\n",
    "</figure>\n"
   ]
  },
  {
   "cell_type": "code",
   "execution_count": null,
   "id": "8e511585-81fc-4812-8dff-6f79762e6474",
   "metadata": {},
   "outputs": [],
   "source": []
  }
 ],
 "metadata": {
  "kernelspec": {
   "display_name": "Python 3 (ipykernel)",
   "language": "python",
   "name": "python3"
  },
  "language_info": {
   "codemirror_mode": {
    "name": "ipython",
    "version": 3
   },
   "file_extension": ".py",
   "mimetype": "text/x-python",
   "name": "python",
   "nbconvert_exporter": "python",
   "pygments_lexer": "ipython3",
   "version": "3.9.15"
  }
 },
 "nbformat": 4,
 "nbformat_minor": 5
}

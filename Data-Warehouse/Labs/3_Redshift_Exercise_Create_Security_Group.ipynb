{
 "cells": [
  {
   "cell_type": "markdown",
   "id": "b7c5fa42-ee10-4f42-a14a-657b3f55ba49",
   "metadata": {},
   "source": [
    "# Redshift Exercise: Create Security Group\n",
    "In this exercise, you'll create a security group you will later use to authorize access to your Redshift cluster.\n",
    "\n",
    "> **A security group will act as firewall rules for your Redshift cluster to control inbound and outbound traffic.**"
   ]
  },
  {
   "cell_type": "markdown",
   "id": "92ae0221-fbc0-4ea7-a887-e07b88fbcee3",
   "metadata": {},
   "source": [
    "1. Navigate to the EC2 service\n",
    "\n",
    "<figure>\n",
    "<img src=\"./fig/08.png\" alt=\"..\" width=\"65%\" height=\"70%\"/>\n",
    "</figure>\n",
    "\n",
    "2. Under **Network and Security** in the left navigation pane, select **Security Groups**. Click the **Create Security Group** button to launch a wizard.\n",
    "\n",
    "<figure>\n",
    "<img src=\"./fig/09.png\" alt=\"..\" width=\"65%\" height=\"70%\"/>\n",
    "</figure>\n",
    "\n",
    "3. In the ``Create security group`` wizard, enter the basic details.\n",
    "\n",
    "| **Section**   |           **Field** |                                              **Value** |\n",
    "|:--------------|:--------------------|:-------------------------------------------------------|\n",
    "| Basic details | Security group name | ``redshift_security_group``                            |\n",
    "|               | Description         | ``Authorise redshift cluster access``                  |\n",
    "|               | VPC                 | Choose the default VPC                                 |\n",
    "|               |                     | It is a VPC in a default region,                       |\n",
    "|               |                     | and has a public subnet in each Availability Zone.     |\n",
    "|               |                     | If a default VPC doesn't show up, [create a default VPC](https://docs.aws.amazon.com/vpc/latest/userguide/default-vpc.html#create-default-vpc) |\n",
    "\n",
    "<figure>\n",
    "<img src=\"./fig/10.png\" alt=\"..\" width=\"65%\" height=\"70%\"/>\n",
    "</figure>\n",
    "\n",
    "<figure>\n",
    "<img src=\"./fig/11.png\" alt=\"..\" width=\"65%\" height=\"70%\"/>\n",
    "</figure>\n",
    "\n",
    "<figure>\n",
    "<img src=\"./fig/12.png\" alt=\"..\" width=\"65%\" height=\"70%\"/>\n",
    "</figure>\n",
    "\n",
    "4. In the Inbound rules section, click on **Add Rule** and enter the following values:\n",
    "\n",
    "| **Section**   |   **Field** |                                     **Value** |\n",
    "|:--------------|:------------|:----------------------------------------------|\n",
    "| Inbound rules | TYpe        | ``redshift_security_group``                   |\n",
    "|               | Protocol    | ``Authorise redshift cluster access``         |\n",
    "|               | Port range  | 5439                                          |\n",
    "|               |             | The default port for Amazon Redshift is 5439, |\n",
    "|               |             | but your port might be different.             |\n",
    "|               | Source Type | Custom                                        |\n",
    "|               | Source      | ```0.0.0.0/0`` (Anywhere in the world)        |\n",
    "\n",
    "\n",
    ">**Important**: Using `0.0.0.0/0` is not recommended for anything other than demonstration purposes because it allows access from any computer on the internet.** In a real environment, you would create inbound rules based on your own network settings.\n",
    "\n",
    "<figure>\n",
    "<img src=\"./fig/13.png\" alt=\"..\" width=\"65%\" height=\"70%\"/>\n",
    "</figure>\n",
    "\n",
    "5. Outbound rules allow traffic to anywhere by default.\n",
    "\n",
    "<figure>\n",
    "<img src=\"./fig/14.png\" alt=\"..\" width=\"65%\" height=\"70%\"/>\n",
    "</figure>\n",
    "\n",
    "6. Click on the Create security group button at the bottom. You will see a success message.\n",
    "\n",
    "<figure>\n",
    "<img src=\"./fig/15.png\" alt=\"..\" width=\"65%\" height=\"70%\"/>\n",
    "</figure>"
   ]
  },
  {
   "cell_type": "code",
   "execution_count": null,
   "id": "528ac7b5-0570-40e7-b817-1433028478a5",
   "metadata": {},
   "outputs": [],
   "source": []
  }
 ],
 "metadata": {
  "kernelspec": {
   "display_name": "Python 3 (ipykernel)",
   "language": "python",
   "name": "python3"
  },
  "language_info": {
   "codemirror_mode": {
    "name": "ipython",
    "version": 3
   },
   "file_extension": ".py",
   "mimetype": "text/x-python",
   "name": "python",
   "nbconvert_exporter": "python",
   "pygments_lexer": "ipython3",
   "version": "3.9.15"
  }
 },
 "nbformat": 4,
 "nbformat_minor": 5
}
